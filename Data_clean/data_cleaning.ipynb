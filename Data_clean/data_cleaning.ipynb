{
 "cells": [
  {
   "cell_type": "code",
   "execution_count": 9,
   "id": "62022b0e",
   "metadata": {},
   "outputs": [],
   "source": [
    "import pandas as pd\n",
    "import numpy as np\n",
    "import json\n",
    "import re\n",
    "from urllib.parse import urlparse\n"
   ]
  },
  {
   "cell_type": "code",
   "execution_count": 38,
   "id": "5a45f209",
   "metadata": {},
   "outputs": [],
   "source": [
    "from datetime import datetime"
   ]
  },
  {
   "cell_type": "code",
   "execution_count": 39,
   "id": "7483528a",
   "metadata": {},
   "outputs": [],
   "source": [
    "# Load JSON data\n",
    "input_file = 'Aec_data.json'\n",
    "output_file = 'cleaned_Aec_data.json'"
   ]
  },
  {
   "cell_type": "code",
   "execution_count": 40,
   "id": "8db4db54",
   "metadata": {},
   "outputs": [],
   "source": [
    "# Assuming the provided data is saved as aec_news_data.json\n",
    "with open(input_file, 'r', encoding='utf-8') as f:\n",
    "    data = json.load(f)\n"
   ]
  },
  {
   "cell_type": "code",
   "execution_count": 41,
   "id": "6bbe2d1b",
   "metadata": {},
   "outputs": [],
   "source": [
    "# Convert to DataFrame\n",
    "df = pd.DataFrame(data)"
   ]
  },
  {
   "cell_type": "code",
   "execution_count": 42,
   "id": "ee24662c",
   "metadata": {},
   "outputs": [],
   "source": [
    "# Step 1: Handle missing values\n",
    "df['description'] = df['description'].fillna('')\n",
    "df['content'] = df['content'].fillna('')\n",
    "df['author'] = df['author'].fillna('unknown')\n",
    "df['url_to_image'] = df['url_to_image'].fillna('none')\n",
    "df = df.dropna(subset=['title', 'query_category'])"
   ]
  },
  {
   "cell_type": "code",
   "execution_count": 43,
   "id": "70863a1f",
   "metadata": {},
   "outputs": [],
   "source": [
    "# Step 2: Clean text fields\n",
    "def clean_text(text):\n",
    "    if pd.isna(text):\n",
    "        return ''\n",
    "    # Remove URLs\n",
    "    text = re.sub(r'http[s]?://\\S+', '', text)\n",
    "    # Remove HTML/Markdown tags (e.g., <ul>, <li>)\n",
    "    text = re.sub(r'<[^>]+>', '', text)\n",
    "    # Remove special characters (including *, [], Unicode \\u2026, punctuation, emojis)\n",
    "    text = re.sub(r'[^\\w\\s]', '', text)\n",
    "    # Remove extra Unicode artifacts\n",
    "    text = text.encode('ascii', 'ignore').decode('ascii')\n",
    "    # Normalize whitespace, remove newlines\n",
    "    text = ' '.join(text.split())\n",
    "    return text"
   ]
  },
  {
   "cell_type": "code",
   "execution_count": 44,
   "id": "878d1079",
   "metadata": {},
   "outputs": [],
   "source": [
    "# Apply cleaning to title, description, and content\n",
    "df['title'] = df['title'].apply(clean_text)\n",
    "df['description'] = df['description'].apply(clean_text)\n",
    "df['content'] = df['content'].apply(clean_text)"
   ]
  },
  {
   "cell_type": "code",
   "execution_count": 45,
   "id": "06d79d89",
   "metadata": {},
   "outputs": [],
   "source": [
    "# Step 3: Clean author field\n",
    "def clean_author(author):\n",
    "    # Remove URLs and extra metadata\n",
    "    author = re.sub(r'http[s]?://\\S+', '', author)\n",
    "    # Remove Contributor or similar suffixes\n",
    "    author = re.sub(r', Contributor.*$', '', author, flags=re.IGNORECASE)\n",
    "    # Split multiple authors, keep names only\n",
    "    authors = [name.strip() for name in author.split(',') if name.strip()]\n",
    "    return ', '.join(authors).lower()\n",
    "\n",
    "df['author'] = df['author'].apply(clean_author)"
   ]
  },
  {
   "cell_type": "code",
   "execution_count": 46,
   "id": "b3f8e374",
   "metadata": {},
   "outputs": [],
   "source": [
    "# Step 4: Add text length\n",
    "df['text_length'] = df['content'].str.len()"
   ]
  },
  {
   "cell_type": "code",
   "execution_count": 47,
   "id": "b8bd757e",
   "metadata": {},
   "outputs": [],
   "source": [
    "# Step 5: Convert dates to datetime\n",
    "df['published_at'] = pd.to_datetime(df['published_at'], errors='coerce')\n",
    "df['collection_date'] = pd.to_datetime(df['collection_date'], errors='coerce')"
   ]
  },
  {
   "cell_type": "code",
   "execution_count": 48,
   "id": "91e398c8",
   "metadata": {},
   "outputs": [],
   "source": [
    "# Step 6: Categorize URLs\n",
    "def categorize_url(url):\n",
    "    if pd.isna(url):\n",
    "        return 'none'\n",
    "    parsed = urlparse(url)\n",
    "    domain = parsed.netloc.lower()\n",
    "    if any(x in domain for x in ['globenewswire', 'forbes', 'financialpost']):\n",
    "        return 'news'\n",
    "    elif any(x in domain for x in ['blog', 'lifeofanarchitect', 'christopherspenn']):\n",
    "        return 'blog'\n",
    "    return 'other'\n",
    "\n",
    "df['url_type'] = df['url'].apply(categorize_url)"
   ]
  },
  {
   "cell_type": "code",
   "execution_count": 49,
   "id": "c4761282",
   "metadata": {},
   "outputs": [],
   "source": [
    "# Step 7: Normalize query_category and source\n",
    "df['query_category'] = df['query_category'].str.lower().str.replace(',', '')\n",
    "df['source'] = df['source'].str.lower()\n",
    "\n"
   ]
  },
  {
   "cell_type": "code",
   "execution_count": 50,
   "id": "5e9caea0",
   "metadata": {},
   "outputs": [],
   "source": [
    "\n",
    "# Step 8: Remove duplicates\n",
    "df = df.drop_duplicates(subset=['title', 'url', 'query_category'])"
   ]
  },
  {
   "cell_type": "code",
   "execution_count": 51,
   "id": "9f45bdb8",
   "metadata": {},
   "outputs": [
    {
     "data": {
      "text/html": [
       "<div>\n",
       "<style scoped>\n",
       "    .dataframe tbody tr th:only-of-type {\n",
       "        vertical-align: middle;\n",
       "    }\n",
       "\n",
       "    .dataframe tbody tr th {\n",
       "        vertical-align: top;\n",
       "    }\n",
       "\n",
       "    .dataframe thead th {\n",
       "        text-align: right;\n",
       "    }\n",
       "</style>\n",
       "<table border=\"1\" class=\"dataframe\">\n",
       "  <thead>\n",
       "    <tr style=\"text-align: right;\">\n",
       "      <th></th>\n",
       "      <th>title</th>\n",
       "      <th>description</th>\n",
       "      <th>content</th>\n",
       "      <th>url</th>\n",
       "      <th>source</th>\n",
       "      <th>published_at</th>\n",
       "      <th>author</th>\n",
       "      <th>url_to_image</th>\n",
       "      <th>query_category</th>\n",
       "      <th>query_used</th>\n",
       "      <th>collection_date</th>\n",
       "      <th>date_range</th>\n",
       "      <th>text_length</th>\n",
       "      <th>url_type</th>\n",
       "    </tr>\n",
       "  </thead>\n",
       "  <tbody>\n",
       "    <tr>\n",
       "      <th>0</th>\n",
       "      <td>egnyte introduces enhanced partner program and...</td>\n",
       "      <td>mountain view calif may 20 2025 globe newswire...</td>\n",
       "      <td>mountain view calif may 20 2025 globe newswire...</td>\n",
       "      <td>https://www.globenewswire.com/news-release/202...</td>\n",
       "      <td>globenewswire</td>\n",
       "      <td>2025-05-20 15:00:00+00:00</td>\n",
       "      <td>egnyte, inc</td>\n",
       "      <td>https://ml.globenewswire.com/Resource/Download...</td>\n",
       "      <td>industry_general</td>\n",
       "      <td>AEC industry OR Architecture Engineering Const...</td>\n",
       "      <td>2025-05-26 23:21:02.156361</td>\n",
       "      <td>2025-05-20_to_2025-05-23</td>\n",
       "      <td>184</td>\n",
       "      <td>news</td>\n",
       "    </tr>\n",
       "    <tr>\n",
       "      <th>1</th>\n",
       "      <td>intel arc pro bseries gpus with xmx ai cores a...</td>\n",
       "      <td>intel arc pro bseries graphics processing unit...</td>\n",
       "      <td>intel arc pro bseries graphics processing unit...</td>\n",
       "      <td>https://www.gadgets360.com/laptops/news/intel-...</td>\n",
       "      <td>gadgets360.com</td>\n",
       "      <td>2025-05-20 12:18:10+00:00</td>\n",
       "      <td>shaurya tomer, siddharth suvarna</td>\n",
       "      <td>https://i.gadgets360cdn.com/large/intel_arc_pr...</td>\n",
       "      <td>industry_general</td>\n",
       "      <td>AEC industry OR Architecture Engineering Const...</td>\n",
       "      <td>2025-05-26 23:21:02.156361</td>\n",
       "      <td>2025-05-20_to_2025-05-23</td>\n",
       "      <td>194</td>\n",
       "      <td>other</td>\n",
       "    </tr>\n",
       "    <tr>\n",
       "      <th>2</th>\n",
       "      <td>the invisible technology behind the worlds mos...</td>\n",
       "      <td>gis powered digital twins enable modern aec fi...</td>\n",
       "      <td>modern engineering and construction firms are ...</td>\n",
       "      <td>https://www.forbes.com/sites/esri/2025/05/20/t...</td>\n",
       "      <td>forbes</td>\n",
       "      <td>2025-05-20 12:00:00+00:00</td>\n",
       "      <td>kathleen kewley, contributor, kathleen kewley,...</td>\n",
       "      <td>https://imageio.forbes.com/specials-images/ima...</td>\n",
       "      <td>industry_general</td>\n",
       "      <td>AEC industry OR Architecture Engineering Const...</td>\n",
       "      <td>2025-05-26 23:21:02.156361</td>\n",
       "      <td>2025-05-20_to_2025-05-23</td>\n",
       "      <td>194</td>\n",
       "      <td>news</td>\n",
       "    </tr>\n",
       "  </tbody>\n",
       "</table>\n",
       "</div>"
      ],
      "text/plain": [
       "                                               title  \\\n",
       "0  egnyte introduces enhanced partner program and...   \n",
       "1  intel arc pro bseries gpus with xmx ai cores a...   \n",
       "2  the invisible technology behind the worlds mos...   \n",
       "\n",
       "                                         description  \\\n",
       "0  mountain view calif may 20 2025 globe newswire...   \n",
       "1  intel arc pro bseries graphics processing unit...   \n",
       "2  gis powered digital twins enable modern aec fi...   \n",
       "\n",
       "                                             content  \\\n",
       "0  mountain view calif may 20 2025 globe newswire...   \n",
       "1  intel arc pro bseries graphics processing unit...   \n",
       "2  modern engineering and construction firms are ...   \n",
       "\n",
       "                                                 url          source  \\\n",
       "0  https://www.globenewswire.com/news-release/202...   globenewswire   \n",
       "1  https://www.gadgets360.com/laptops/news/intel-...  gadgets360.com   \n",
       "2  https://www.forbes.com/sites/esri/2025/05/20/t...          forbes   \n",
       "\n",
       "               published_at  \\\n",
       "0 2025-05-20 15:00:00+00:00   \n",
       "1 2025-05-20 12:18:10+00:00   \n",
       "2 2025-05-20 12:00:00+00:00   \n",
       "\n",
       "                                              author  \\\n",
       "0                                        egnyte, inc   \n",
       "1                   shaurya tomer, siddharth suvarna   \n",
       "2  kathleen kewley, contributor, kathleen kewley,...   \n",
       "\n",
       "                                        url_to_image    query_category  \\\n",
       "0  https://ml.globenewswire.com/Resource/Download...  industry_general   \n",
       "1  https://i.gadgets360cdn.com/large/intel_arc_pr...  industry_general   \n",
       "2  https://imageio.forbes.com/specials-images/ima...  industry_general   \n",
       "\n",
       "                                          query_used  \\\n",
       "0  AEC industry OR Architecture Engineering Const...   \n",
       "1  AEC industry OR Architecture Engineering Const...   \n",
       "2  AEC industry OR Architecture Engineering Const...   \n",
       "\n",
       "             collection_date                date_range  text_length url_type  \n",
       "0 2025-05-26 23:21:02.156361  2025-05-20_to_2025-05-23          184     news  \n",
       "1 2025-05-26 23:21:02.156361  2025-05-20_to_2025-05-23          194    other  \n",
       "2 2025-05-26 23:21:02.156361  2025-05-20_to_2025-05-23          194     news  "
      ]
     },
     "execution_count": 51,
     "metadata": {},
     "output_type": "execute_result"
    }
   ],
   "source": [
    "df.head(3)"
   ]
  },
  {
   "cell_type": "code",
   "execution_count": 52,
   "id": "24d78ce6",
   "metadata": {},
   "outputs": [
    {
     "name": "stdout",
     "output_type": "stream",
     "text": [
      "Successfully saved cleaned data to cleaned_Aec_data.json\n"
     ]
    }
   ],
   "source": [
    "# Step 9: Save cleaned data\n",
    "cleaned_data = df.to_dict(orient='records')\n",
    "with open(output_file, 'w', encoding='utf-8') as f:\n",
    "    json.dump(cleaned_data, f, ensure_ascii=False, indent=4, default=str)\n",
    "\n",
    "print(f'Successfully saved cleaned data to {output_file}')"
   ]
  },
  {
   "cell_type": "code",
   "execution_count": null,
   "id": "fd7ba44d",
   "metadata": {},
   "outputs": [],
   "source": []
  }
 ],
 "metadata": {
  "kernelspec": {
   "display_name": "benv",
   "language": "python",
   "name": "python3"
  },
  "language_info": {
   "codemirror_mode": {
    "name": "ipython",
    "version": 3
   },
   "file_extension": ".py",
   "mimetype": "text/x-python",
   "name": "python",
   "nbconvert_exporter": "python",
   "pygments_lexer": "ipython3",
   "version": "3.10.0"
  }
 },
 "nbformat": 4,
 "nbformat_minor": 5
}
